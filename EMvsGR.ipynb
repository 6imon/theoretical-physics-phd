{
 "cells": [
  {
   "cell_type": "markdown",
   "id": "e441cd3b-5b27-4cfe-9859-17f135696c26",
   "metadata": {
    "tags": []
   },
   "source": [
    "# Introduction to EM\n",
    "\n",
    "What is this about? Maybe a feeble attempt to explore similarities and differences between electromagnetism and general relativity as simplest as possible. The aim is to illustrate the process of the radiation in electromagnetic (EM) theory and linearised theory of general relativity (GR).\n",
    "\n",
    "Let us have a look how the electromagnetic (EM) radiation works. The electric field is described by the vector $\\mathbf{E}$ and the magnetic field is described by the vector $\\mathbf{B}$. The sources creating the EM field is charge (density) $\\rho$ and current (density) $\\mathbf{j}$. All these quantities are intertwined via so-called Maxwell’s equations\n",
    "\\begin{align}\n",
    "    \\nabla \\cdot \\mathbf{E} &= 4 \\pi \\rho \\\\\n",
    "    \\nabla \\cdot \\mathbf{B} &= 0 \\\\\n",
    "    \\nabla \\times \\mathbf{E} &= - \\frac{\\partial \\mathbf{B}}{\\partial t} \\\\\n",
    "    \\nabla \\times \\mathbf{B} &= 4 \\pi \\mathbf{j} + \\frac{\\partial \\mathbf{E}}{\\partial t}\n",
    "\\end{align}\n",
    "Don’t be alarmed by the other symbols present. It just to show how vast number of physical processes (it is even pointless to name the examples) can be described on so small place. On the other hand, they are generally difficult to solve so we need to assume some approximation and the approximation in mind is multipole expansion."
   ]
  },
  {
   "cell_type": "markdown",
   "id": "d6cffda7-12d0-4ec3-8fc2-fd04669d40da",
   "metadata": {},
   "source": [
    "# Potentials and gauge\n",
    "\n",
    "Sometimes it is useful to leave an old notation behind and introduce a new one. This also this case when potentials, scalar $\\phi$ and vector $\\mathbf{A}$ one, are introduced instead of the electric intensity $\\mathbf{E}$ and the magnetic induction \\mathbf{B}\n",
    "\\begin{align}\n",
    "    \\mathbf{B} &= \\nabla \\times \\mathbf{A}\\\\\n",
    "    \\mathbf{E} &= \\nabla \\phi - \\frac{\\partial \\mathbf{A}}{\\partial t}\n",
    "\\end{align}\n",
    "Advantage of this is that 4 Maxwell’s equations reduce just to 2 and other 2 are always satisfied.\n",
    "\\begin{align}\n",
    "    - \\Delta \\phi - \\frac{\\partial}{\\partial t}\\Delta \\cdot \\mathbf{A} &= 4 \\pi \\rho \\\\\n",
    "    \\nabla \\nabla \\cdot \\mathbf{A} - \\Delta \\mathbf{A} - \\frac{\\partial}{\\partial t} \\nabla \\phi - \\frac{\\partial^2 \\mathbf{A}}{\\partial t^2} &= 4 \\pi \\mathbf{j}\n",
    "\\end{align}\n",
    "Disadvantage of this is that potentials are not measurable or so-called physical. This property can be seen from the fact that we can change the potentials with the arbitrary function $\\chi$ and the fields $\\mathbf{E}$ and $\\mathbf{B}$ stays the same.\n",
    "\\begin{align}\n",
    "    \\mathbf{A} &\\rightarrow \\mathbf{A} + \\nabla \\chi \\\\\n",
    "    \\phi &\\rightarrow \\phi - \\frac{\\partial \\chi}{\\partial t}\n",
    "\\end{align}\n",
    "However, what was once a disadvantage can be put in one’s favour. Let us choose $\\chi$ such this relation is satisfied\n",
    "\\begin{equation}\n",
    "    \\nabla \\cdot \\mathbf{A} = - \\frac{\\partial \\phi}{\\partial t}\n",
    "\\end{equation}\n",
    "Which is called the Lorenz gauge. Then Maxwell’s equation are simplified (and also symmetrised)\n",
    "\\begin{align}\n",
    "    - \\Delta \\phi + \\frac{\\partial^2 \\phi}{\\partial t^2} &= 4 \\pi \\rho \\\\\n",
    "    - \\Delta \\mathbf{A} + \\frac{\\partial^2 \\mathbf{A}}{\\partial t^2} &= 4 \\pi \\mathbf{A}\n",
    "\\end{align}\n",
    "The next thing will be finding the solution of the equations above, which will serve us as a background for already promised multipole expansion. This time it might be heavy and dense and it will get worse but when examples come, animations will lighten the mood."
   ]
  },
  {
   "cell_type": "markdown",
   "id": "0c131da9-3993-477c-b53b-eb9fd488deb5",
   "metadata": {},
   "source": [
    "# Retarded solution and multipole expansion\n",
    "\n",
    "Without further delay, I can present the solution of Maxwell’s equation in the Lorenz gauge.\n",
    "\\begin{align}\n",
    "    \\phi(\\vec{r}, t) &= \\int \\frac{\\rho\\left(\\vec{r}', t \\mp |\\vec{r} - \\vec{r}'| \\right)}{|\\vec{r} - \\vec{r}'|} \\, \\mathrm{d}^3\\vec{r}' \\\\\n",
    "    \\mathbf{A}(\\vec{r}, t) &= \\int \\frac{\\mathbf{j}\\left(\\vec{r}', t \\mp |\\vec{r} - \\vec{r}'| \\right)}{|\\vec{r} - \\vec{r}'|} \\, \\mathrm{d}^3\\vec{r}'\n",
    "\\end{align}\n",
    "There are several things to notice about this solution. The position vector denoted with prime corresponds to the sources and the position vector without prime is with respect to the observer. Subsequently, the time dependence is shifted by the distance between the source and observer. This is due to the finite speed of the propagation of the field. The minus or plus sign in the time dependence is the choice of the retarded or the advanced solution. Since we are used to travelling forward in time, the retarded solution is taken from now on. Now it is time to make an approximation. We are interested in the regions far away from the sources meaning that the observer's position vector is larger than the source's position vector, alternatively, the typical period is larger than the scale of the source.\n",
    "![alt text](../source/pic/EMvsGR.sources.JPG \"Title\")\n",
    "This technique is the multipole expansion and it separates the leading terms in the radiation to a monopole, dipole, quadrupole and so on according to the strength of the contribution.\n",
    "\\begin{align}\n",
    "    \\mathbf{A} &= \\mathbf{A}_\\mathrm{monopole} + \\mathbf{A}_\\mathrm{dipole} + \\mathbf{A}_\\mathrm{quadrupole} + \\dots \\\\\n",
    "    \\mathbf{A}_\\mathrm{monopole} &= 0 \\,, \\quad \\mathbf{A}_\\mathrm{dipole} = \\frac{\\dot{\\mathbf{d}}}{r} \\,, \\quad \\mathbf{A}_\\mathrm{quadrupole} = \\frac{\\ddot{\\mathbf{Q}}}{2r}\n",
    "\\end{align}\n",
    "The dot denotes the time derivative or the change with respect to time. See that the dipole contribution is the dominant one since the monopole does not contribute. Thus, the next time, illustration of the dipole."
   ]
  }
 ],
 "metadata": {
  "kernelspec": {
   "display_name": "Python 3 (ipykernel)",
   "language": "python",
   "name": "python3"
  },
  "language_info": {
   "codemirror_mode": {
    "name": "ipython",
    "version": 3
   },
   "file_extension": ".py",
   "mimetype": "text/x-python",
   "name": "python",
   "nbconvert_exporter": "python",
   "pygments_lexer": "ipython3",
   "version": "3.9.12"
  },
  "toc-autonumbering": true,
  "toc-showcode": false,
  "toc-showmarkdowntxt": false
 },
 "nbformat": 4,
 "nbformat_minor": 5
}
